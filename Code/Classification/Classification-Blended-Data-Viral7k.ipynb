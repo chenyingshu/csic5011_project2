{
 "cells": [
  {
   "cell_type": "code",
   "execution_count": 1,
   "metadata": {},
   "outputs": [],
   "source": [
    "import kerastuner as kt\n",
    "from tensorflow import keras\n",
    "import tensorflow as tf\n",
    "from kerastuner.tuners import RandomSearch\n",
    "from kerastuner.engine.hyperparameters import HyperParameter as hp\n",
    "from tensorflow.python.keras.layers import Dense,Dropout,Activation,Add,MaxPooling2D,Conv2D,Flatten\n",
    "from tensorflow.python.keras.models import Sequential \n",
    "from tensorflow.python.keras.preprocessing.image import ImageDataGenerator\n",
    "import numpy as np\n",
    "import matplotlib.pyplot as plt\n",
    "from tensorflow.python.keras import layers\n",
    "from tensorflow.python.keras.preprocessing import image\n",
    "import matplotlib.pyplot as plt\n",
    "import seaborn as sns\n",
    "import pandas as pd"
   ]
  },
  {
   "cell_type": "code",
   "execution_count": 2,
   "metadata": {},
   "outputs": [
    {
     "name": "stdout",
     "output_type": "stream",
     "text": [
      "Found 26070 files belonging to 4 classes.\n",
      "Using 20856 files for training.\n",
      "Found 26070 files belonging to 4 classes.\n",
      "Using 5214 files for validation.\n"
     ]
    }
   ],
   "source": [
    "train_data = defect_tree = tf.keras.preprocessing.image_dataset_from_directory(\n",
    "    '../Data/classification_data/train-mix-viral',\n",
    "    labels=\"inferred\",\n",
    "    label_mode=\"int\",\n",
    "    class_names=None,\n",
    "    color_mode=\"rgb\",\n",
    "    batch_size=32,\n",
    "    image_size=(256, 256),\n",
    "    shuffle=True,\n",
    "    seed=123,\n",
    "    validation_split=0.2,\n",
    "    subset=\"training\",\n",
    "    interpolation=\"bilinear\",\n",
    "    follow_links=False,\n",
    ")\n",
    "validation = tf.keras.preprocessing.image_dataset_from_directory(\n",
    "    '../Data/classification_data/train-mix-viral',\n",
    "    labels=\"inferred\",\n",
    "    label_mode=\"int\",\n",
    "    class_names=None,\n",
    "    color_mode=\"rgb\",\n",
    "    batch_size=32,\n",
    "    image_size=(256, 256),\n",
    "    shuffle=True,\n",
    "    seed=123,\n",
    "    validation_split=0.2,\n",
    "    subset=\"validation\",\n",
    "    interpolation=\"bilinear\",\n",
    "    follow_links=False,\n",
    ")"
   ]
  },
  {
   "cell_type": "code",
   "execution_count": 3,
   "metadata": {},
   "outputs": [],
   "source": [
    "## Defining Cnn\n",
    "model = tf.keras.models.Sequential([\n",
    "  layers.BatchNormalization(),\n",
    "  layers.Conv2D(32, 4, activation='relu'),\n",
    "  layers.MaxPooling2D(),\n",
    "  layers.Conv2D(64, 4, activation='relu'),\n",
    "  layers.MaxPooling2D(),\n",
    "  layers.Dropout(0.3),\n",
    "  layers.Conv2D(128, 4, activation='relu'),\n",
    "  layers.MaxPooling2D(),\n",
    "  layers.Dropout(0.2),\n",
    "  layers.Flatten(),\n",
    "  layers.Dense(256, activation='relu'),\n",
    "  layers.Dropout(0.15),\n",
    "  layers.Dense(4, activation= 'softmax')\n",
    "])"
   ]
  },
  {
   "cell_type": "code",
   "execution_count": 4,
   "metadata": {},
   "outputs": [],
   "source": [
    "early = tf.keras.callbacks.EarlyStopping(monitor='val_loss',patience=5)"
   ]
  },
  {
   "cell_type": "code",
   "execution_count": 5,
   "metadata": {},
   "outputs": [],
   "source": [
    "model.compile(optimizer='adam',loss='sparse_categorical_crossentropy', metrics=['accuracy'])"
   ]
  },
  {
   "cell_type": "code",
   "execution_count": 6,
   "metadata": {},
   "outputs": [
    {
     "name": "stdout",
     "output_type": "stream",
     "text": [
      "Epoch 1/20\n",
      "652/652 [==============================] - 1317s 2s/step - loss: 0.6749 - accuracy: 0.7736 - val_loss: 0.4355 - val_accuracy: 0.8460\n",
      "Epoch 2/20\n",
      "652/652 [==============================] - 1294s 2s/step - loss: 0.3803 - accuracy: 0.8600 - val_loss: 0.3469 - val_accuracy: 0.8746\n",
      "Epoch 3/20\n",
      "652/652 [==============================] - 1288s 2s/step - loss: 0.3019 - accuracy: 0.8897 - val_loss: 0.3411 - val_accuracy: 0.8746\n",
      "Epoch 4/20\n",
      "652/652 [==============================] - 1230s 2s/step - loss: 0.2472 - accuracy: 0.9080 - val_loss: 0.3524 - val_accuracy: 0.8748\n",
      "Epoch 5/20\n",
      "652/652 [==============================] - 1205s 2s/step - loss: 0.1997 - accuracy: 0.9275 - val_loss: 0.3194 - val_accuracy: 0.8911\n",
      "Epoch 6/20\n",
      "652/652 [==============================] - 1010s 2s/step - loss: 0.1761 - accuracy: 0.9352 - val_loss: 0.3507 - val_accuracy: 0.8926\n",
      "Epoch 7/20\n",
      "652/652 [==============================] - 791s 1s/step - loss: 0.1368 - accuracy: 0.9492 - val_loss: 0.3853 - val_accuracy: 0.8899\n",
      "Epoch 8/20\n",
      "652/652 [==============================] - 824s 1s/step - loss: 0.1142 - accuracy: 0.9577 - val_loss: 0.4075 - val_accuracy: 0.8968\n",
      "Epoch 9/20\n",
      "652/652 [==============================] - 991s 2s/step - loss: 0.0969 - accuracy: 0.9642 - val_loss: 0.4647 - val_accuracy: 0.8886\n",
      "Epoch 10/20\n",
      "652/652 [==============================] - 994s 2s/step - loss: 0.0834 - accuracy: 0.9702 - val_loss: 0.4295 - val_accuracy: 0.8909\n"
     ]
    }
   ],
   "source": [
    "## fit model\n",
    "history=model.fit(train_data,validation_data= validation,batch_size=32,epochs = 20,callbacks=[early])"
   ]
  },
  {
   "cell_type": "code",
   "execution_count": 7,
   "metadata": {},
   "outputs": [
    {
     "name": "stdout",
     "output_type": "stream",
     "text": [
      "INFO:tensorflow:Assets written to: models/blended_viral_data/assets\n"
     ]
    }
   ],
   "source": [
    "model.save('models/blended_viral_data')"
   ]
  },
  {
   "cell_type": "code",
   "execution_count": 8,
   "metadata": {},
   "outputs": [
    {
     "data": {
      "image/png": "[encoded data removed]",
      "text/plain": [
       "<Figure size 432x288 with 1 Axes>"
      ]
     },
     "metadata": {},
     "output_type": "display_data"
    },
    {
     "data": {
      "image/png": "[encoded data removed]",
      "text/plain": [
       "<Figure size 432x288 with 1 Axes>"
      ]
     },
     "metadata": {},
     "output_type": "display_data"
    }
   ],
   "source": [
    "#plotting training values\n",
    "sns.set()\n",
    "\n",
    "acc = history.history['accuracy']\n",
    "val_acc = history.history['val_accuracy']\n",
    "loss = history.history['loss']\n",
    "val_loss = history.history['val_loss']\n",
    "epochs = range(1, len(loss) + 1)\n",
    "\n",
    "#accuracy plot\n",
    "plt.plot(epochs, acc, color='green', label='Training Accuracy')\n",
    "plt.plot(epochs, val_acc, color='blue', label='Validation Accuracy')\n",
    "plt.title('Training and Validation Accuracy')\n",
    "plt.ylabel('Accuracy')\n",
    "plt.xlabel('Epoch')\n",
    "plt.legend()\n",
    "\n",
    "plt.figure()\n",
    "#loss plot\n",
    "plt.plot(epochs, loss, color='pink', label='Training Loss')\n",
    "plt.plot(epochs, val_loss, color='red', label='Validation Loss')\n",
    "plt.title('Training and Validation Loss')\n",
    "plt.xlabel('Epoch')\n",
    "plt.ylabel('Loss')\n",
    "plt.legend()\n",
    "\n",
    "plt.show()"
   ]
  },
  {
   "cell_type": "code",
   "execution_count": 9,
   "metadata": {},
   "outputs": [
    {
     "data": {
      "text/plain": [
       "<matplotlib.legend.Legend at 0x7f01a018a3d0>"
      ]
     },
     "execution_count": 9,
     "metadata": {},
     "output_type": "execute_result"
    },
    {
     "data": {
      "image/png": "[encoded data removed]",
      "text/plain": [
       "<Figure size 432x288 with 1 Axes>"
      ]
     },
     "metadata": {},
     "output_type": "display_data"
    }
   ],
   "source": [
    "#training accuracy and loss\n",
    "plt.plot(history.history['loss'], label = 'training loss')\n",
    "plt.plot(history.history['accuracy'], label = 'training accuracy')\n",
    "plt.legend()"
   ]
  },
  {
   "cell_type": "code",
   "execution_count": 10,
   "metadata": {},
   "outputs": [
    {
     "data": {
      "text/plain": [
       "<matplotlib.legend.Legend at 0x7f016066e490>"
      ]
     },
     "execution_count": 10,
     "metadata": {},
     "output_type": "execute_result"
    },
    {
     "data": {
      "image/png": "[encoded data removed]",
      "text/plain": [
       "<Figure size 432x288 with 1 Axes>"
      ]
     },
     "metadata": {},
     "output_type": "display_data"
    }
   ],
   "source": [
    "#validation accuracy and loss\n",
    "plt.plot(history.history['val_loss'], label = 'validation loss')\n",
    "plt.plot(history.history['val_accuracy'], label = 'validation accuracy')\n",
    "plt.legend()"
   ]
  },
  {
   "cell_type": "code",
   "execution_count": 11,
   "metadata": {},
   "outputs": [],
   "source": [
    "import os\n",
    "import glob\n",
    "\n",
    "class_names =  [\"COVID-19\",\"Lung\",\"NORMAL\",\"Viral Pneumonia\"]"
   ]
  },
  {
   "cell_type": "code",
   "execution_count": 16,
   "metadata": {},
   "outputs": [],
   "source": [
    "pred_list = np.zeros((250,4))"
   ]
  },
  {
   "cell_type": "code",
   "execution_count": 17,
   "metadata": {},
   "outputs": [],
   "source": [
    "#model = keras.models.load_model('models/blended_lung_data')\n",
    "label_names= [\"COVID\", \"Lung\", \"Normal\", \"Viral\"]"
   ]
  },
  {
   "cell_type": "code",
   "execution_count": 18,
   "metadata": {},
   "outputs": [
    {
     "name": "stdout",
     "output_type": "stream",
     "text": [
      "testing 250 COVID CXR images\n",
      "testing 250 Lung CXR images\n",
      "testing 250 Normal CXR images\n",
      "testing 250 Viral CXR images\n"
     ]
    }
   ],
   "source": [
    "for idx, label in enumerate(label_names):\n",
    "    path_list = sorted(glob.glob(os.path.join(\"../Data/classification_data/test\", label, \"*.png\")))\n",
    "    print(\"testing %d %s CXR images\" %(len(path_list), label))\n",
    "\n",
    "    for i in range(len(path_list)):\n",
    "        image_path = path_list[i]\n",
    "        new_img = image.load_img(image_path, target_size=(256, 256))\n",
    "        img = image.img_to_array(new_img)\n",
    "        img = np.expand_dims(img, axis=0)\n",
    "        prediction = model.predict(img)\n",
    "        prediction = np.argmax(prediction,axis=1)\n",
    "        pred_list[i,idx] = prediction"
   ]
  },
  {
   "cell_type": "code",
   "execution_count": 19,
   "metadata": {},
   "outputs": [
    {
     "data": {
      "text/plain": [
       "array([[0., 1., 2., 3.],\n",
       "       [0., 1., 2., 3.],\n",
       "       [0., 1., 2., 3.],\n",
       "       [0., 1., 1., 3.],\n",
       "       [0., 1., 2., 1.],\n",
       "       [0., 1., 2., 0.],\n",
       "       [0., 1., 2., 3.],\n",
       "       [0., 1., 2., 3.],\n",
       "       [0., 2., 2., 3.],\n",
       "       [0., 1., 2., 3.],\n",
       "       [0., 1., 2., 3.],\n",
       "       [0., 1., 2., 3.],\n",
       "       [0., 2., 2., 3.],\n",
       "       [0., 1., 2., 3.],\n",
       "       [0., 1., 2., 3.],\n",
       "       [0., 1., 2., 3.],\n",
       "       [0., 1., 2., 3.],\n",
       "       [0., 1., 2., 3.],\n",
       "       [0., 1., 2., 3.],\n",
       "       [0., 1., 1., 3.],\n",
       "       [0., 1., 2., 3.],\n",
       "       [0., 1., 2., 0.],\n",
       "       [0., 1., 2., 3.],\n",
       "       [0., 1., 2., 3.],\n",
       "       [0., 1., 2., 3.],\n",
       "       [0., 1., 2., 3.],\n",
       "       [0., 1., 2., 3.],\n",
       "       [1., 1., 2., 3.],\n",
       "       [2., 1., 2., 3.],\n",
       "       [0., 2., 2., 3.],\n",
       "       [0., 0., 2., 3.],\n",
       "       [0., 1., 2., 3.],\n",
       "       [0., 1., 1., 3.],\n",
       "       [0., 1., 2., 3.],\n",
       "       [2., 1., 2., 1.],\n",
       "       [0., 1., 3., 3.],\n",
       "       [0., 1., 2., 3.],\n",
       "       [0., 2., 2., 3.],\n",
       "       [0., 1., 1., 3.],\n",
       "       [0., 1., 2., 3.],\n",
       "       [0., 1., 2., 3.],\n",
       "       [1., 1., 2., 3.],\n",
       "       [0., 2., 2., 3.],\n",
       "       [0., 1., 2., 3.],\n",
       "       [0., 1., 2., 3.],\n",
       "       [0., 1., 2., 3.],\n",
       "       [0., 1., 2., 3.],\n",
       "       [0., 1., 2., 3.],\n",
       "       [0., 2., 2., 3.],\n",
       "       [0., 1., 2., 3.],\n",
       "       [0., 1., 2., 3.],\n",
       "       [0., 1., 2., 3.],\n",
       "       [0., 1., 2., 3.],\n",
       "       [0., 1., 0., 0.],\n",
       "       [0., 2., 2., 3.],\n",
       "       [0., 1., 2., 3.],\n",
       "       [0., 1., 2., 3.],\n",
       "       [0., 1., 2., 3.],\n",
       "       [0., 1., 2., 3.],\n",
       "       [0., 1., 2., 3.],\n",
       "       [0., 1., 2., 3.],\n",
       "       [2., 1., 2., 3.],\n",
       "       [0., 1., 2., 3.],\n",
       "       [0., 2., 1., 3.],\n",
       "       [0., 1., 2., 3.],\n",
       "       [0., 1., 1., 3.],\n",
       "       [0., 1., 2., 3.],\n",
       "       [0., 2., 2., 3.],\n",
       "       [0., 1., 2., 3.],\n",
       "       [0., 2., 2., 3.],\n",
       "       [0., 2., 2., 3.],\n",
       "       [0., 1., 2., 3.],\n",
       "       [0., 1., 2., 3.],\n",
       "       [0., 1., 2., 3.],\n",
       "       [0., 1., 1., 0.],\n",
       "       [0., 1., 2., 3.],\n",
       "       [0., 1., 2., 3.],\n",
       "       [0., 0., 2., 3.],\n",
       "       [1., 2., 2., 2.],\n",
       "       [0., 1., 2., 3.],\n",
       "       [0., 1., 2., 3.],\n",
       "       [0., 1., 2., 3.],\n",
       "       [0., 1., 2., 3.],\n",
       "       [0., 1., 2., 3.],\n",
       "       [0., 1., 2., 3.],\n",
       "       [0., 1., 2., 3.],\n",
       "       [0., 1., 2., 3.],\n",
       "       [0., 1., 2., 3.],\n",
       "       [0., 1., 2., 3.],\n",
       "       [0., 1., 2., 3.],\n",
       "       [0., 1., 2., 3.],\n",
       "       [0., 1., 2., 3.],\n",
       "       [2., 1., 2., 3.],\n",
       "       [0., 1., 2., 3.],\n",
       "       [0., 1., 2., 3.],\n",
       "       [0., 2., 0., 3.],\n",
       "       [0., 1., 2., 3.],\n",
       "       [0., 1., 2., 3.],\n",
       "       [0., 2., 2., 3.],\n",
       "       [0., 1., 1., 3.],\n",
       "       [0., 1., 2., 3.],\n",
       "       [0., 1., 2., 3.],\n",
       "       [0., 1., 1., 3.],\n",
       "       [0., 1., 2., 3.],\n",
       "       [0., 1., 2., 3.],\n",
       "       [0., 1., 2., 3.],\n",
       "       [0., 2., 2., 3.],\n",
       "       [0., 0., 2., 3.],\n",
       "       [0., 1., 2., 3.],\n",
       "       [0., 1., 2., 3.],\n",
       "       [0., 1., 1., 3.],\n",
       "       [0., 1., 2., 3.],\n",
       "       [0., 1., 1., 3.],\n",
       "       [0., 1., 2., 3.],\n",
       "       [0., 1., 2., 3.],\n",
       "       [0., 1., 2., 3.],\n",
       "       [0., 1., 1., 3.],\n",
       "       [0., 1., 2., 3.],\n",
       "       [0., 1., 2., 0.],\n",
       "       [0., 1., 2., 3.],\n",
       "       [0., 2., 2., 3.],\n",
       "       [0., 1., 2., 0.],\n",
       "       [0., 1., 2., 3.],\n",
       "       [0., 1., 2., 3.],\n",
       "       [0., 1., 2., 3.],\n",
       "       [0., 1., 2., 3.],\n",
       "       [0., 1., 2., 3.],\n",
       "       [0., 1., 2., 3.],\n",
       "       [0., 1., 2., 3.],\n",
       "       [0., 1., 2., 3.],\n",
       "       [0., 1., 2., 3.],\n",
       "       [0., 0., 0., 3.],\n",
       "       [0., 1., 2., 3.],\n",
       "       [0., 1., 2., 3.],\n",
       "       [0., 1., 2., 3.],\n",
       "       [0., 1., 2., 3.],\n",
       "       [0., 1., 2., 3.],\n",
       "       [0., 1., 2., 3.],\n",
       "       [0., 1., 2., 3.],\n",
       "       [0., 0., 2., 3.],\n",
       "       [0., 2., 2., 3.],\n",
       "       [0., 2., 2., 3.],\n",
       "       [0., 2., 2., 3.],\n",
       "       [0., 1., 2., 3.],\n",
       "       [0., 1., 2., 3.],\n",
       "       [0., 2., 2., 3.],\n",
       "       [0., 2., 2., 3.],\n",
       "       [1., 1., 2., 3.],\n",
       "       [0., 1., 2., 3.],\n",
       "       [0., 1., 2., 3.],\n",
       "       [0., 1., 2., 3.],\n",
       "       [0., 2., 2., 3.],\n",
       "       [0., 1., 2., 3.],\n",
       "       [0., 1., 2., 3.],\n",
       "       [0., 1., 2., 3.],\n",
       "       [0., 1., 2., 3.],\n",
       "       [0., 1., 2., 3.],\n",
       "       [0., 1., 2., 3.],\n",
       "       [0., 1., 2., 3.],\n",
       "       [0., 2., 2., 3.],\n",
       "       [0., 2., 2., 3.],\n",
       "       [0., 1., 2., 3.],\n",
       "       [0., 1., 2., 3.],\n",
       "       [0., 0., 2., 3.],\n",
       "       [0., 1., 2., 3.],\n",
       "       [0., 1., 2., 3.],\n",
       "       [0., 1., 2., 3.],\n",
       "       [0., 1., 2., 3.],\n",
       "       [0., 1., 2., 3.],\n",
       "       [0., 1., 2., 3.],\n",
       "       [0., 1., 2., 3.],\n",
       "       [0., 1., 3., 3.],\n",
       "       [0., 1., 2., 3.],\n",
       "       [0., 1., 2., 3.],\n",
       "       [0., 1., 1., 3.],\n",
       "       [0., 2., 2., 3.],\n",
       "       [0., 1., 2., 3.],\n",
       "       [0., 2., 2., 3.],\n",
       "       [0., 1., 2., 3.],\n",
       "       [0., 1., 2., 3.],\n",
       "       [0., 2., 2., 1.],\n",
       "       [0., 2., 2., 3.],\n",
       "       [0., 2., 2., 3.],\n",
       "       [0., 1., 2., 3.],\n",
       "       [0., 2., 2., 2.],\n",
       "       [2., 1., 2., 3.],\n",
       "       [1., 1., 2., 3.],\n",
       "       [0., 1., 2., 3.],\n",
       "       [0., 1., 1., 3.],\n",
       "       [0., 2., 2., 3.],\n",
       "       [0., 1., 2., 3.],\n",
       "       [0., 1., 2., 3.],\n",
       "       [0., 1., 1., 3.],\n",
       "       [0., 1., 2., 3.],\n",
       "       [1., 1., 2., 3.],\n",
       "       [0., 1., 1., 3.],\n",
       "       [0., 0., 2., 3.],\n",
       "       [0., 1., 2., 0.],\n",
       "       [0., 1., 2., 3.],\n",
       "       [0., 1., 2., 3.],\n",
       "       [0., 2., 2., 3.],\n",
       "       [0., 1., 2., 3.],\n",
       "       [0., 1., 2., 3.],\n",
       "       [0., 1., 2., 3.],\n",
       "       [0., 1., 2., 3.],\n",
       "       [0., 1., 1., 3.],\n",
       "       [0., 1., 2., 3.],\n",
       "       [0., 1., 2., 3.],\n",
       "       [0., 1., 2., 3.],\n",
       "       [0., 2., 2., 3.],\n",
       "       [0., 1., 2., 3.],\n",
       "       [0., 2., 2., 3.],\n",
       "       [0., 1., 2., 3.],\n",
       "       [0., 1., 2., 3.],\n",
       "       [0., 1., 2., 3.],\n",
       "       [0., 1., 2., 3.],\n",
       "       [0., 1., 2., 3.],\n",
       "       [0., 2., 2., 3.],\n",
       "       [0., 1., 2., 3.],\n",
       "       [0., 2., 0., 3.],\n",
       "       [0., 1., 0., 3.],\n",
       "       [0., 1., 2., 3.],\n",
       "       [2., 0., 2., 3.],\n",
       "       [0., 1., 0., 3.],\n",
       "       [0., 0., 0., 3.],\n",
       "       [0., 1., 2., 3.],\n",
       "       [0., 1., 2., 3.],\n",
       "       [0., 1., 2., 1.],\n",
       "       [0., 1., 1., 3.],\n",
       "       [0., 1., 2., 3.],\n",
       "       [0., 1., 1., 3.],\n",
       "       [0., 1., 2., 3.],\n",
       "       [0., 1., 2., 3.],\n",
       "       [0., 1., 2., 3.],\n",
       "       [0., 1., 2., 3.],\n",
       "       [0., 0., 2., 3.],\n",
       "       [0., 1., 1., 3.],\n",
       "       [0., 2., 1., 3.],\n",
       "       [0., 1., 2., 3.],\n",
       "       [0., 1., 2., 3.],\n",
       "       [0., 1., 2., 3.],\n",
       "       [0., 1., 1., 3.],\n",
       "       [0., 2., 2., 3.],\n",
       "       [0., 1., 2., 3.],\n",
       "       [2., 1., 2., 3.],\n",
       "       [0., 1., 2., 3.],\n",
       "       [0., 2., 2., 3.],\n",
       "       [0., 1., 2., 3.],\n",
       "       [1., 1., 2., 3.],\n",
       "       [0., 1., 2., 3.]])"
      ]
     },
     "execution_count": 19,
     "metadata": {},
     "output_type": "execute_result"
    }
   ],
   "source": [
    "pred_list"
   ]
  },
  {
   "cell_type": "code",
   "execution_count": 20,
   "metadata": {},
   "outputs": [],
   "source": [
    "df = pd.DataFrame(pred_list)"
   ]
  },
  {
   "cell_type": "code",
   "execution_count": 21,
   "metadata": {},
   "outputs": [],
   "source": [
    "df.columns = class_names"
   ]
  },
  {
   "cell_type": "code",
   "execution_count": 22,
   "metadata": {},
   "outputs": [],
   "source": [
    "df.to_csv(\"classification_blended_viral7k.csv\")"
   ]
  },
  {
   "cell_type": "code",
   "execution_count": 23,
   "metadata": {},
   "outputs": [],
   "source": [
    "label = np.zeros((250,4))"
   ]
  },
  {
   "cell_type": "code",
   "execution_count": 24,
   "metadata": {},
   "outputs": [],
   "source": [
    "label[:,0] = 0\n",
    "label[:,1] = 1\n",
    "label[:,2] = 2\n",
    "label[:,3] = 3"
   ]
  },
  {
   "cell_type": "code",
   "execution_count": 25,
   "metadata": {},
   "outputs": [],
   "source": [
    "label = pd.DataFrame(label)\n",
    "label.columns = class_names"
   ]
  },
  {
   "cell_type": "code",
   "execution_count": 26,
   "metadata": {},
   "outputs": [],
   "source": [
    "#label"
   ]
  },
  {
   "cell_type": "code",
   "execution_count": 27,
   "metadata": {},
   "outputs": [
    {
     "data": {
      "text/plain": [
       "COVID-19           0.944\n",
       "Lung               0.804\n",
       "NORMAL             0.876\n",
       "Viral Pneumonia    0.948\n",
       "dtype: float64"
      ]
     },
     "execution_count": 27,
     "metadata": {},
     "output_type": "execute_result"
    }
   ],
   "source": [
    "(df == label).sum(axis = 0)/250"
   ]
  },
  {
   "cell_type": "code",
   "execution_count": null,
   "metadata": {},
   "outputs": [],
   "source": []
  }
 ],
 "metadata": {
  "kernelspec": {
   "display_name": "Python 3",
   "language": "python",
   "name": "python3"
  },
  "language_info": {
   "codemirror_mode": {
    "name": "ipython",
    "version": 3
   },
   "file_extension": ".py",
   "mimetype": "text/x-python",
   "name": "python",
   "nbconvert_exporter": "python",
   "pygments_lexer": "ipython3",
   "version": "3.7.10"
  }
 },
 "nbformat": 4,
 "nbformat_minor": 2
}
